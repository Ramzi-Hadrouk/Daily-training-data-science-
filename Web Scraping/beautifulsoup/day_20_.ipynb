{
 "cells": [
  {
   "cell_type": "code",
   "execution_count": 2,
   "id": "c66a9f2c-b0e2-496a-b91a-23d0ce1bb515",
   "metadata": {},
   "outputs": [],
   "source": [
    "from bs4 import BeautifulSoup as BS"
   ]
  },
  {
   "cell_type": "code",
   "execution_count": 31,
   "id": "bb769f71-eb16-46d6-a18d-09a85600853a",
   "metadata": {},
   "outputs": [],
   "source": [
    "html=\"\"\"<b>The Dormouse's story</b>\n",
    "     d\n",
    "     <a class=\"sister\" href=\"http://example1.com/elsie\" id=\"link1\">Elsie</a>\n",
    "     d\n",
    "     <a  href=\"http://facebook.com/lacie\" id=\"link2\">Lacie__</a>\n",
    "     \n",
    "     <a class=\"sister\" href=\"http://example3.com/tillie\" id=\"link3\"><span>ddddd</span></a>\"\"\""
   ]
  },
  {
   "cell_type": "code",
   "execution_count": 32,
   "id": "52ed1ed2-055f-4dba-a63f-a75e1518ceea",
   "metadata": {},
   "outputs": [],
   "source": [
    "soup=BS(html,'lxml')"
   ]
  },
  {
   "cell_type": "code",
   "execution_count": 33,
   "id": "9c6bbc7f-7221-47e4-9b66-f9278cd3c191",
   "metadata": {},
   "outputs": [
    {
     "name": "stdout",
     "output_type": "stream",
     "text": [
      "<html>\n",
      " <body>\n",
      "  <b>\n",
      "   The Dormouse's story\n",
      "  </b>\n",
      "  d\n",
      "  <a class=\"sister\" href=\"http://example1.com/elsie\" id=\"link1\">\n",
      "   Elsie\n",
      "  </a>\n",
      "  d\n",
      "  <a href=\"http://facebook.com/lacie\" id=\"link2\">\n",
      "   Lacie__\n",
      "  </a>\n",
      "  <a class=\"sister\" href=\"http://example3.com/tillie\" id=\"link3\">\n",
      "   <span>\n",
      "    ddddd\n",
      "   </span>\n",
      "  </a>\n",
      " </body>\n",
      "</html>\n",
      "\n"
     ]
    }
   ],
   "source": [
    "print(soup.prettify())"
   ]
  },
  {
   "cell_type": "code",
   "execution_count": 34,
   "id": "ad810287-bae9-4a65-9c4d-1b3e9cf0d4fe",
   "metadata": {},
   "outputs": [
    {
     "name": "stdout",
     "output_type": "stream",
     "text": [
      "[<a href=\"http://facebook.com/lacie\" id=\"link2\">Lacie__</a>]\n"
     ]
    }
   ],
   "source": [
    "def include_facebook(href):\n",
    "    return  href is  not None and \"facebook\" in href\n",
    "    \n",
    "facebook_tags=soup.find_all(href=include_facebook)\n",
    "print(facebook_tags)"
   ]
  },
  {
   "cell_type": "code",
   "execution_count": 35,
   "id": "03287971-eaa6-4d8c-9b4a-ca07fdd2a5d1",
   "metadata": {},
   "outputs": [],
   "source": [
    "from bs4 import NavigableString"
   ]
  },
  {
   "cell_type": "code",
   "execution_count": 36,
   "id": "c355fe2a-4607-4e0f-b3c2-5091d57bba14",
   "metadata": {},
   "outputs": [
    {
     "data": {
      "text/plain": [
       "[<a class=\"sister\" href=\"http://example1.com/elsie\" id=\"link1\">Elsie</a>,\n",
       " <a href=\"http://facebook.com/lacie\" id=\"link2\">Lacie__</a>]"
      ]
     },
     "execution_count": 36,
     "metadata": {},
     "output_type": "execute_result"
    }
   ],
   "source": [
    "def suronded_by_strings(tag):\n",
    "    return (isinstance(tag.previous_element,NavigableString)) and (isinstance(tag.next_element,NavigableString))\n",
    "soup.find_all(suronded_by_strings)"
   ]
  },
  {
   "cell_type": "code",
   "execution_count": 37,
   "id": "7bce4d1b-9938-4852-a058-3d125a5c5436",
   "metadata": {},
   "outputs": [],
   "source": [
    "import re"
   ]
  },
  {
   "cell_type": "code",
   "execution_count": 38,
   "id": "390d2be5-7ef2-4e59-8dd6-31be7481d1bf",
   "metadata": {},
   "outputs": [
    {
     "name": "stdout",
     "output_type": "stream",
     "text": [
      "[<a href=\"http://facebook.com/lacie\" id=\"link2\">Lacie__</a>]\n"
     ]
    }
   ],
   "source": [
    "def include_lacie(tag):\n",
    "    return  tag.string is not None and re.search('Lacie',tag.string)\n",
    "print(soup.find_all(name=include_lacie))"
   ]
  },
  {
   "cell_type": "code",
   "execution_count": 39,
   "id": "77a80f55-825c-444a-b03f-505b766d3c86",
   "metadata": {},
   "outputs": [
    {
     "name": "stdout",
     "output_type": "stream",
     "text": [
      "[<b>The Dormouse's story</b>, <a class=\"sister\" href=\"http://example1.com/elsie\" id=\"link1\">Elsie</a>, <a href=\"http://facebook.com/lacie\" id=\"link2\">Lacie__</a>, <a class=\"sister\" href=\"http://example3.com/tillie\" id=\"link3\"><span>ddddd</span></a>]\n"
     ]
    }
   ],
   "source": [
    "print(soup.find_all(name=['a','b']))\n"
   ]
  },
  {
   "cell_type": "code",
   "execution_count": 40,
   "id": "b8799ebf-4637-48ff-9f6f-9eb7b0d04201",
   "metadata": {},
   "outputs": [
    {
     "name": "stdout",
     "output_type": "stream",
     "text": [
      "[<a class=\"sister\" href=\"http://example1.com/elsie\" id=\"link1\">Elsie</a>, <a href=\"http://facebook.com/lacie\" id=\"link2\">Lacie__</a>, <a class=\"sister\" href=\"http://example3.com/tillie\" id=\"link3\"><span>ddddd</span></a>] \n",
      "\n",
      "<a href=\"http://facebook.com/lacie\" id=\"link2\">Lacie__</a>\n"
     ]
    }
   ],
   "source": [
    "# return all elemnts that have  id\n",
    "print(soup.find_all(id=True) ,'\\n')\n",
    "# return all elemnts that have  id and didn't have class\n",
    "id_no_class=soup.find_all(attrs={'id':True , 'class':False})\n",
    "for tag in id_no_class:\n",
    "    print(tag)\n"
   ]
  },
  {
   "cell_type": "code",
   "execution_count": 41,
   "id": "d3dff2f4-2adf-40d0-ac0e-33c705beffcb",
   "metadata": {},
   "outputs": [
    {
     "data": {
      "text/plain": [
       "[<a class=\"sister\" href=\"http://example1.com/elsie\" id=\"link1\">Elsie</a>,\n",
       " <a href=\"http://facebook.com/lacie\" id=\"link2\">Lacie__</a>]"
      ]
     },
     "execution_count": 41,
     "metadata": {},
     "output_type": "execute_result"
    }
   ],
   "source": [
    "soup.find_all(\"a\", limit=2)"
   ]
  },
  {
   "cell_type": "code",
   "execution_count": 44,
   "id": "c90ee6ba-e6ad-4046-955c-3ee985e967d3",
   "metadata": {},
   "outputs": [
    {
     "data": {
      "text/plain": [
       "<a class=\"sister\" href=\"http://example3.com/tillie\" id=\"link3\"><span>ddddd</span></a>"
      ]
     },
     "execution_count": 44,
     "metadata": {},
     "output_type": "execute_result"
    }
   ],
   "source": [
    "soup.span.find_parent() #find_parents()"
   ]
  },
  {
   "cell_type": "code",
   "execution_count": 45,
   "id": "9caf2409-6c35-4244-95a8-5306fc97adb3",
   "metadata": {},
   "outputs": [
    {
     "data": {
      "text/plain": [
       "[<a class=\"sister\" href=\"http://example1.com/elsie\" id=\"link1\">Elsie</a>,\n",
       " <a href=\"http://facebook.com/lacie\" id=\"link2\">Lacie__</a>,\n",
       " <a class=\"sister\" href=\"http://example3.com/tillie\" id=\"link3\"><span>ddddd</span></a>]"
      ]
     },
     "execution_count": 45,
     "metadata": {},
     "output_type": "execute_result"
    }
   ],
   "source": [
    "soup.b.find_next_siblings()  #  find_next_sibling() "
   ]
  },
  {
   "cell_type": "code",
   "execution_count": 46,
   "id": "6bbc855a-4936-4846-ba54-40080ca57451",
   "metadata": {},
   "outputs": [
    {
     "data": {
      "text/plain": [
       "[]"
      ]
     },
     "execution_count": 46,
     "metadata": {},
     "output_type": "execute_result"
    }
   ],
   "source": [
    "soup.b.find_previous_siblings()  #  find_previos_sibling() "
   ]
  },
  {
   "cell_type": "code",
   "execution_count": null,
   "id": "8bad548d-a626-4ad6-9b7f-9d6cd971d1b4",
   "metadata": {},
   "outputs": [],
   "source": []
  }
 ],
 "metadata": {
  "kernelspec": {
   "display_name": "Python 3 (ipykernel)",
   "language": "python",
   "name": "python3"
  },
  "language_info": {
   "codemirror_mode": {
    "name": "ipython",
    "version": 3
   },
   "file_extension": ".py",
   "mimetype": "text/x-python",
   "name": "python",
   "nbconvert_exporter": "python",
   "pygments_lexer": "ipython3",
   "version": "3.12.7"
  }
 },
 "nbformat": 4,
 "nbformat_minor": 5
}
