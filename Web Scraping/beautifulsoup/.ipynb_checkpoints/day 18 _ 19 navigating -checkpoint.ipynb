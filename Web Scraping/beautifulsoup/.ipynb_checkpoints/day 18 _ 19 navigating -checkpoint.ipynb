{
 "cells": [
  {
   "cell_type": "code",
   "execution_count": 1,
   "id": "ac26721f-3c8d-4535-8aea-cb92c3782c15",
   "metadata": {},
   "outputs": [],
   "source": [
    " from bs4 import  BeautifulSoup  as BS"
   ]
  },
  {
   "cell_type": "code",
   "execution_count": 2,
   "id": "681f330a-9c9c-4265-9484-5e1188854eb0",
   "metadata": {},
   "outputs": [],
   "source": [
    "html_doc = \"\"\"\n",
    "<html><head><title>The Dormouse's story</title></head>\n",
    "<body>\n",
    "<p class=\"title\"><b>The Dormouse's story</b></p>\n",
    "<p class=\"story\">Once upon a time there were three little sisters; and their nameswere\n",
    "<a href=\"http://example.com/elsie\" class=\"sister\" id=\"link1\">Elsie</a>,\n",
    "<a href=\"http://example.com/lacie\" class=\"sister\" id=\"link2\">Lacie</a> and\n",
    "<a href=\"http://example.com/tillie\" class=\"sister\" id=\"link3\">Tillie</a>;\n",
    "and they lived at the bottom of a well.</p>\n",
    "<p class=\"story\">...</p>\n",
    "\"\"\""
   ]
  },
  {
   "cell_type": "code",
   "execution_count": 3,
   "id": "d93ebdf3-78de-4cc8-877c-92d15d0358a2",
   "metadata": {},
   "outputs": [],
   "source": [
    "soup=BS(html_doc,'lxml')"
   ]
  },
  {
   "cell_type": "code",
   "execution_count": 4,
   "id": "beae7599-3a20-441a-a47c-05e99ddcad84",
   "metadata": {},
   "outputs": [
    {
     "name": "stdout",
     "output_type": "stream",
     "text": [
      "<p class=\"story\">\n",
      " Once upon a time there were three little sisters; and their nameswere\n",
      " <a class=\"sister\" href=\"http://example.com/elsie\" id=\"link1\">\n",
      "  Elsie\n",
      " </a>\n",
      " ,\n",
      " <a class=\"sister\" href=\"http://example.com/lacie\" id=\"link2\">\n",
      "  Lacie\n",
      " </a>\n",
      " and\n",
      " <a class=\"sister\" href=\"http://example.com/tillie\" id=\"link3\">\n",
      "  Tillie\n",
      " </a>\n",
      " ;\n",
      "and they lived at the bottom of a well.\n",
      "</p>\n",
      "\n"
     ]
    }
   ],
   "source": [
    "print(soup.find(attrs={'class':'story'}).prettify())"
   ]
  },
  {
   "cell_type": "code",
   "execution_count": 5,
   "id": "9643900e-33b7-432c-8756-3e946f802ec9",
   "metadata": {},
   "outputs": [
    {
     "data": {
      "text/plain": [
       "[<a class=\"sister\" href=\"http://example.com/elsie\" id=\"link1\">Elsie</a>,\n",
       " <a class=\"sister\" href=\"http://example.com/lacie\" id=\"link2\">Lacie</a>,\n",
       " <a class=\"sister\" href=\"http://example.com/tillie\" id=\"link3\">Tillie</a>]"
      ]
     },
     "execution_count": 5,
     "metadata": {},
     "output_type": "execute_result"
    }
   ],
   "source": [
    "story_links=soup.find(attrs={'class':'story'}).find_all(name='a')\n",
    "story_links"
   ]
  },
  {
   "cell_type": "code",
   "execution_count": 6,
   "id": "c288529a-4c10-49c1-9292-612d560fae2b",
   "metadata": {},
   "outputs": [
    {
     "name": "stdout",
     "output_type": "stream",
     "text": [
      "http://example.com/elsie\n",
      "http://example.com/lacie\n",
      "http://example.com/tillie\n"
     ]
    }
   ],
   "source": [
    "for link in story_links:\n",
    "    print(link.get('href'))"
   ]
  },
  {
   "cell_type": "code",
   "execution_count": 7,
   "id": "460c47c2-d613-41e0-8839-282147069576",
   "metadata": {},
   "outputs": [
    {
     "name": "stdout",
     "output_type": "stream",
     "text": [
      "Once upon a time there were three little sisters; and their nameswere\n",
      "\n",
      "<a class=\"sister\" href=\"http://example.com/elsie\" id=\"link1\">Elsie</a>\n",
      ",\n",
      "\n",
      "<a class=\"sister\" href=\"http://example.com/lacie\" id=\"link2\">Lacie</a>\n",
      " and\n",
      "\n",
      "<a class=\"sister\" href=\"http://example.com/tillie\" id=\"link3\">Tillie</a>\n",
      ";\n",
      "and they lived at the bottom of a well.\n"
     ]
    }
   ],
   "source": [
    "#get content of element  stri,gs and  attributes as list\n",
    "story_content=soup.find(attrs={'class':'story'}).contents\n",
    "for element in story_content :\n",
    "    print(element)"
   ]
  },
  {
   "cell_type": "code",
   "execution_count": 8,
   "id": "b4b59dfe-97dc-4c8d-8e3a-ad51f15f3f12",
   "metadata": {},
   "outputs": [
    {
     "name": "stdout",
     "output_type": "stream",
     "text": [
      "\n",
      "\n",
      "<p class=\"title\"><b>The Dormouse's story</b></p>\n",
      "<b>The Dormouse's story</b>\n",
      "The Dormouse's story\n",
      "\n",
      "\n",
      "<p class=\"story\">Once upon a time there were three little sisters; and their nameswere\n",
      "<a class=\"sister\" href=\"http://example.com/elsie\" id=\"link1\">Elsie</a>,\n",
      "<a class=\"sister\" href=\"http://example.com/lacie\" id=\"link2\">Lacie</a> and\n",
      "<a class=\"sister\" href=\"http://example.com/tillie\" id=\"link3\">Tillie</a>;\n",
      "and they lived at the bottom of a well.</p>\n",
      "Once upon a time there were three little sisters; and their nameswere\n",
      "\n",
      "<a class=\"sister\" href=\"http://example.com/elsie\" id=\"link1\">Elsie</a>\n",
      "Elsie\n",
      ",\n",
      "\n",
      "<a class=\"sister\" href=\"http://example.com/lacie\" id=\"link2\">Lacie</a>\n",
      "Lacie\n",
      " and\n",
      "\n",
      "<a class=\"sister\" href=\"http://example.com/tillie\" id=\"link3\">Tillie</a>\n",
      "Tillie\n",
      ";\n",
      "and they lived at the bottom of a well.\n",
      "\n",
      "\n",
      "<p class=\"story\">...</p>\n",
      "...\n",
      "\n",
      "\n"
     ]
    }
   ],
   "source": [
    "for child in soup.body.descendants:\n",
    "    print(child)"
   ]
  },
  {
   "cell_type": "code",
   "execution_count": 9,
   "id": "15f41497-2559-4909-9f44-bfc961044c39",
   "metadata": {},
   "outputs": [
    {
     "name": "stdout",
     "output_type": "stream",
     "text": [
      "[<html><head><title>The Dormouse's story</title></head>\n",
      "<body>\n",
      "<p class=\"title\"><b>The Dormouse's story</b></p>\n",
      "<p class=\"story\">Once upon a time there were three little sisters; and their nameswere\n",
      "<a class=\"sister\" href=\"http://example.com/elsie\" id=\"link1\">Elsie</a>,\n",
      "<a class=\"sister\" href=\"http://example.com/lacie\" id=\"link2\">Lacie</a> and\n",
      "<a class=\"sister\" href=\"http://example.com/tillie\" id=\"link3\">Tillie</a>;\n",
      "and they lived at the bottom of a well.</p>\n",
      "<p class=\"story\">...</p>\n",
      "</body></html>]\n"
     ]
    }
   ],
   "source": [
    "print(list(soup.children))"
   ]
  },
  {
   "cell_type": "code",
   "execution_count": 10,
   "id": "26968caa-ec00-4dc3-9c56-2f969564677a",
   "metadata": {},
   "outputs": [
    {
     "name": "stdout",
     "output_type": "stream",
     "text": [
      "\"The Dormouse's story\"\n",
      "'\\n'\n",
      "'\\n'\n",
      "\"The Dormouse's story\"\n",
      "'\\n'\n",
      "'Once upon a time there were three little sisters; and their nameswere\\n'\n",
      "'Elsie'\n",
      "',\\n'\n",
      "'Lacie'\n",
      "' and\\n'\n",
      "'Tillie'\n",
      "';\\nand they lived at the bottom of a well.'\n",
      "'\\n'\n",
      "'...'\n",
      "'\\n'\n"
     ]
    }
   ],
   "source": [
    "# strings vs  string\n",
    "for string in soup.strings :\n",
    "    print(repr(string))"
   ]
  },
  {
   "cell_type": "code",
   "execution_count": 11,
   "id": "62cacffb-7ad6-46e6-9406-54bc766aedd2",
   "metadata": {},
   "outputs": [
    {
     "name": "stdout",
     "output_type": "stream",
     "text": [
      "<p class=\"story\">Once upon a time there were three little sisters; and their nameswere\n",
      "<a class=\"sister\" href=\"http://example.com/elsie\" id=\"link1\">Elsie</a>,\n",
      "<a class=\"sister\" href=\"http://example.com/lacie\" id=\"link2\">Lacie</a> and\n",
      "<a class=\"sister\" href=\"http://example.com/tillie\" id=\"link3\">Tillie</a>;\n",
      "and they lived at the bottom of a well.</p>\n"
     ]
    }
   ],
   "source": [
    "#parent\n",
    "print(soup.a.parent)"
   ]
  },
  {
   "cell_type": "code",
   "execution_count": 12,
   "id": "f425deb9-ce62-453b-8aca-a3aba988980e",
   "metadata": {},
   "outputs": [
    {
     "name": "stdout",
     "output_type": "stream",
     "text": [
      "p\n"
     ]
    }
   ],
   "source": [
    "print(soup.a.parent.name)\n"
   ]
  },
  {
   "cell_type": "code",
   "execution_count": 26,
   "id": "94c4544a-9d2f-4c1f-8792-6ee881297c7b",
   "metadata": {},
   "outputs": [
    {
     "name": "stdout",
     "output_type": "stream",
     "text": [
      "<html>\n",
      " <body>\n",
      "  <a>\n",
      "   <b>\n",
      "    text1\n",
      "   </b>\n",
      "   <b>\n",
      "    text2\n",
      "   </b>\n",
      "   <b>\n",
      "    text3\n",
      "   </b>\n",
      "   <span>\n",
      "    text2\n",
      "   </span>\n",
      "  </a>\n",
      " </body>\n",
      "</html>\n",
      "\n"
     ]
    }
   ],
   "source": [
    "sibling_soup = BS(\"<a><b>text1</b>  <b>text2</b> <b>text3</b>    <span>text2</span></b></a>\" , 'lxml')\n",
    "print(sibling_soup.prettify())"
   ]
  },
  {
   "cell_type": "code",
   "execution_count": 27,
   "id": "3feb129b-8114-47c1-90f0-7d3db0f41be0",
   "metadata": {},
   "outputs": [
    {
     "name": "stdout",
     "output_type": "stream",
     "text": [
      " \n",
      "None\n"
     ]
    }
   ],
   "source": [
    "print(sibling_soup.span.previous_sibling) #works with html/xml that contain no space \n",
    "print(sibling_soup.span.next_sibling)"
   ]
  },
  {
   "cell_type": "code",
   "execution_count": 28,
   "id": "65eb1669-acfb-46f7-8c48-84e529e47aa7",
   "metadata": {},
   "outputs": [
    {
     "name": "stdout",
     "output_type": "stream",
     "text": [
      "[' ', <b>text3</b>, ' ', <b>text2</b>, ' ', <b>text1</b>]\n"
     ]
    }
   ],
   "source": [
    "print(list(sibling_soup.span.previous_siblings))"
   ]
  },
  {
   "cell_type": "code",
   "execution_count": 31,
   "id": "5a55cac3-7c77-4503-a0cf-33767ba6d7a3",
   "metadata": {},
   "outputs": [
    {
     "name": "stdout",
     "output_type": "stream",
     "text": [
      "<b>text3</b>\n",
      "<b>text2</b>\n",
      "<b>text1</b>\n"
     ]
    }
   ],
   "source": [
    "for sibling in sibling_soup.span.previous_siblings :\n",
    "    if sibling != \" \":\n",
    "        print (sibling)"
   ]
  },
  {
   "cell_type": "code",
   "execution_count": 69,
   "id": "99a2719e-0db6-4785-a80f-86dc2e76dce1",
   "metadata": {},
   "outputs": [
    {
     "name": "stdout",
     "output_type": "stream",
     "text": [
      "span.next_element: 'Inside third paragraph'\n",
      "span.previous_element: '\\n        Third paragraph\\n        '\n",
      "span.next_sibling: '\\n'\n",
      "span.previous_sibling: '\\n        Third paragraph\\n        '\n"
     ]
    }
   ],
   "source": [
    "\n",
    "html_doc = \"\"\"\n",
    "<div>\n",
    "    <p class='hola' id='1'>First paragraph</p>\n",
    "    <p>Second paragraph</p>\n",
    "    <p class='mola'>\n",
    "        Third paragraph\n",
    "        <span>Inside third paragraph</span>\n",
    "    </p>\n",
    "    <a class=\"sister\" href=\"http://example.com/elsie\" id=\"link1\">Elsie</a>\n",
    "    <a class=\"sister\" href=\"http://hola.com/elsie\" id=\"link1\">Elsie</a>\n",
    "</div>\n",
    "\"\"\"\n",
    "\n",
    "soup = BS(html_doc, \"html.parser\")\n",
    "\n",
    "# Select the <span> element\n",
    "span = soup.find(\"span\")\n",
    "\n",
    "# Using next_element\n",
    "print(\"span.next_element:\", repr(span.next_element))  # Text inside the <span>\n",
    "\n",
    "# Using previous_element\n",
    "print(\"span.previous_element:\", repr(span.previous_element))  # Whitespace before the <span>\n",
    "\n",
    "# Using next_sibling\n",
    "print(\"span.next_sibling:\", repr(span.next_sibling))  # None, because <span> has no siblings in this tree\n",
    "\n",
    "# Using previous_sibling\n",
    "print(\"span.previous_sibling:\", repr(span.previous_sibling))  # Text \"Third paragraph\"\n"
   ]
  },
  {
   "cell_type": "code",
   "execution_count": 70,
   "id": "fa840d39-0bb9-491e-bfde-68d1d0eb6fb3",
   "metadata": {},
   "outputs": [
    {
     "name": "stdout",
     "output_type": "stream",
     "text": [
      "'First paragraph'\n",
      "'\\n'\n",
      "<p>Second paragraph</p>\n",
      "'Second paragraph'\n",
      "'\\n'\n",
      "<p class=\"mola\">\n",
      "        Third paragraph\n",
      "        <span>Inside third paragraph</span>\n",
      "</p>\n",
      "'\\n        Third paragraph\\n        '\n",
      "<span>Inside third paragraph</span>\n",
      "'Inside third paragraph'\n",
      "'\\n'\n",
      "'\\n'\n",
      "<a class=\"sister\" href=\"http://example.com/elsie\" id=\"link1\">Elsie</a>\n",
      "'Elsie'\n",
      "'\\n'\n",
      "<a class=\"sister\" href=\"http://hola.com/elsie\" id=\"link1\">Elsie</a>\n",
      "'Elsie'\n",
      "'\\n'\n",
      "'\\n'\n"
     ]
    }
   ],
   "source": [
    "for element in soup.p.next_elements:\n",
    "        print(repr(element))"
   ]
  },
  {
   "cell_type": "code",
   "execution_count": 71,
   "id": "c66efa00-4b23-4a6c-a37c-3e5f0a27c764",
   "metadata": {},
   "outputs": [
    {
     "name": "stdout",
     "output_type": "stream",
     "text": [
      "First paragraph\n",
      "\n",
      "\n",
      "<p>Second paragraph</p>\n",
      "Second paragraph\n",
      "\n",
      "\n",
      "<p class=\"mola\">\n",
      "        Third paragraph\n",
      "        <span>Inside third paragraph</span>\n",
      "</p>\n",
      "\n",
      "        Third paragraph\n",
      "        \n",
      "<span>Inside third paragraph</span>\n",
      "Inside third paragraph\n",
      "\n",
      "\n",
      "\n",
      "\n",
      "<a class=\"sister\" href=\"http://example.com/elsie\" id=\"link1\">Elsie</a>\n",
      "Elsie\n",
      "\n",
      "\n",
      "<a class=\"sister\" href=\"http://hola.com/elsie\" id=\"link1\">Elsie</a>\n",
      "Elsie\n",
      "\n",
      "\n",
      "\n",
      "\n"
     ]
    }
   ],
   "source": [
    "for element in soup.p.next_elements:\n",
    "        print(element)"
   ]
  },
  {
   "cell_type": "code",
   "execution_count": 72,
   "id": "92b2c5e6-559b-44bc-8950-414d67bfd4c3",
   "metadata": {},
   "outputs": [
    {
     "name": "stdout",
     "output_type": "stream",
     "text": [
      "<p class=\"hola\" id=\"1\">First paragraph</p>\n",
      "<p>Second paragraph</p>\n",
      "<p class=\"mola\">\n",
      "        Third paragraph\n",
      "        <span>Inside third paragraph</span>\n",
      "</p>\n"
     ]
    }
   ],
   "source": [
    "import re\n",
    "for tag in soup.find_all(re.compile(\"^p\")):\n",
    "    print(tag)"
   ]
  },
  {
   "cell_type": "code",
   "execution_count": 73,
   "id": "69a1b2d1-1370-46d5-adc5-dbab54317ec8",
   "metadata": {},
   "outputs": [
    {
     "name": "stdout",
     "output_type": "stream",
     "text": [
      "<span>Inside third paragraph</span>\n",
      "<a class=\"sister\" href=\"http://example.com/elsie\" id=\"link1\">Elsie</a>\n",
      "<a class=\"sister\" href=\"http://hola.com/elsie\" id=\"link1\">Elsie</a>\n"
     ]
    }
   ],
   "source": [
    "for tag in soup.find_all(re.compile(\"a\")):\n",
    "    print(tag)"
   ]
  },
  {
   "cell_type": "code",
   "execution_count": 74,
   "id": "5ae25de3-4ac6-4c05-b978-ca5aaaacedf6",
   "metadata": {},
   "outputs": [
    {
     "data": {
      "text/plain": [
       "[<p class=\"hola\" id=\"1\">First paragraph</p>,\n",
       " <p>Second paragraph</p>,\n",
       " <p class=\"mola\">\n",
       "         Third paragraph\n",
       "         <span>Inside third paragraph</span>\n",
       " </p>,\n",
       " <a class=\"sister\" href=\"http://example.com/elsie\" id=\"link1\">Elsie</a>,\n",
       " <a class=\"sister\" href=\"http://hola.com/elsie\" id=\"link1\">Elsie</a>]"
      ]
     },
     "execution_count": 74,
     "metadata": {},
     "output_type": "execute_result"
    }
   ],
   "source": [
    "soup.find_all(name=[\"a\", \"p\"])"
   ]
  },
  {
   "cell_type": "code",
   "execution_count": 75,
   "id": "5d662058-2f0b-444b-95a1-300cc8a14da8",
   "metadata": {},
   "outputs": [
    {
     "name": "stdout",
     "output_type": "stream",
     "text": [
      "<div>\n",
      "<p class=\"hola\" id=\"1\">First paragraph</p>\n",
      "<p>Second paragraph</p>\n",
      "<p class=\"mola\">\n",
      "        Third paragraph\n",
      "        <span>Inside third paragraph</span>\n",
      "</p>\n",
      "<a class=\"sister\" href=\"http://example.com/elsie\" id=\"link1\">Elsie</a>\n",
      "<a class=\"sister\" href=\"http://hola.com/elsie\" id=\"link1\">Elsie</a>\n",
      "</div>\n",
      "<p class=\"hola\" id=\"1\">First paragraph</p>\n",
      "<p>Second paragraph</p>\n",
      "<p class=\"mola\">\n",
      "        Third paragraph\n",
      "        <span>Inside third paragraph</span>\n",
      "</p>\n",
      "<span>Inside third paragraph</span>\n",
      "<a class=\"sister\" href=\"http://example.com/elsie\" id=\"link1\">Elsie</a>\n",
      "<a class=\"sister\" href=\"http://hola.com/elsie\" id=\"link1\">Elsie</a>\n"
     ]
    }
   ],
   "source": [
    "for tag in soup.find_all(name=True):\n",
    "    print(tag)"
   ]
  },
  {
   "cell_type": "code",
   "execution_count": 76,
   "id": "b3244bf2-a5b2-486e-90f2-08772dcf01f7",
   "metadata": {},
   "outputs": [
    {
     "data": {
      "text/plain": [
       "<p class=\"mola\">\n",
       "        Third paragraph\n",
       "        <span>Inside third paragraph</span>\n",
       "</p>"
      ]
     },
     "execution_count": 76,
     "metadata": {},
     "output_type": "execute_result"
    }
   ],
   "source": [
    "#pass function to fid function\n",
    "\n",
    "def has_class_but_no_id(tag):\n",
    "    return tag.has_attr('class') and not tag.has_attr('id')\n",
    "    \n",
    "soup.find(has_class_but_no_id)"
   ]
  },
  {
   "cell_type": "code",
   "execution_count": 78,
   "id": "e42da0da-9138-4bca-8b38-0a82990d0a7c",
   "metadata": {},
   "outputs": [
    {
     "data": {
      "text/plain": [
       "[<a class=\"sister\" href=\"http://example.com/elsie\" id=\"link1\">Elsie</a>]"
      ]
     },
     "execution_count": 78,
     "metadata": {},
     "output_type": "execute_result"
    }
   ],
   "source": [
    "def not_lacie(href):\n",
    "    return href and not re.compile(\"hola\").search(href)\n",
    "soup.find_all(href=not_lacie)"
   ]
  },
  {
   "cell_type": "code",
   "execution_count": 80,
   "id": "483c64d7-236f-437e-9540-d8105638469f",
   "metadata": {},
   "outputs": [
    {
     "data": {
      "text/plain": [
       "[<a class=\"sister\" href=\"http://example.com/elsie\" id=\"link1\">Elsie</a>,\n",
       " <a class=\"sister\" href=\"http://hola.com/elsie\" id=\"link1\">Elsie</a>]"
      ]
     },
     "execution_count": 80,
     "metadata": {},
     "output_type": "execute_result"
    }
   ],
   "source": [
    "def not_lacie(href):\n",
    "    return href and not re.compile(\"setif\").search(href)\n",
    "soup.find_all(href=not_lacie)"
   ]
  },
  {
   "cell_type": "code",
   "execution_count": null,
   "id": "25dc3e32-d316-489c-a66e-692b2719ca05",
   "metadata": {},
   "outputs": [],
   "source": []
  },
  {
   "cell_type": "code",
   "execution_count": null,
   "id": "da9dfd85-61f5-40ce-8c33-865be298b86f",
   "metadata": {},
   "outputs": [],
   "source": []
  }
 ],
 "metadata": {
  "kernelspec": {
   "display_name": "Python 3 (ipykernel)",
   "language": "python",
   "name": "python3"
  },
  "language_info": {
   "codemirror_mode": {
    "name": "ipython",
    "version": 3
   },
   "file_extension": ".py",
   "mimetype": "text/x-python",
   "name": "python",
   "nbconvert_exporter": "python",
   "pygments_lexer": "ipython3",
   "version": "3.12.7"
  }
 },
 "nbformat": 4,
 "nbformat_minor": 5
}
