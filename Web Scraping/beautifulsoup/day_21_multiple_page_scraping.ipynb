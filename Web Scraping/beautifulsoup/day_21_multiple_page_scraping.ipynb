{
 "cells": [
  {
   "cell_type": "markdown",
   "id": "1c3c604f-3b30-42da-adb6-6dea7fc5bf70",
   "metadata": {},
   "source": [
    "## Ramzi Hadrouk"
   ]
  },
  {
   "cell_type": "code",
   "execution_count": 5,
   "id": "4ce9f353-7b6d-4449-a2f7-b1f86631c43f",
   "metadata": {},
   "outputs": [],
   "source": [
    "from bs4 import BeautifulSoup as BS\n",
    "import requests as rq"
   ]
  },
  {
   "cell_type": "code",
   "execution_count": 13,
   "id": "0cdb8ead-ab48-4153-85ea-8bd3b7be2e99",
   "metadata": {},
   "outputs": [],
   "source": [
    "#configiration\n",
    "city = 'stif-19'\n",
    "page_number = 2\n",
    "category='telephones'\n",
    "url = f'https://www.ouedkniss.com/{category}/{page_number}?regionIds={city}'"
   ]
  },
  {
   "cell_type": "code",
   "execution_count": 16,
   "id": "d5046096-dd60-4742-b45f-00d42daa5a99",
   "metadata": {},
   "outputs": [
    {
     "name": "stdout",
     "output_type": "stream",
     "text": [
      "<!DOCTYPE html>\n",
      "<html class=\"notranslate\" dir=\"ltr\" lang=\"fr\" translate=\"no\"><head><meta charset=\"utf-8\"/><meta content=\"notranslate\" name=\"google\"/><meta content=\"IE=edge\" http-equiv=\"X-UA-Compatible\"/><meta content=\"width=device-width,initial-scale=1\" name=\"viewport\"/><link href=\"/static/favicon.ico\" rel=\"icon\"/><title>Annonces - Vente Achat Location - Ouedkniss.com - AlgÃ©rie</title><meta content=\"+ 1.000.000 annonces sur le 1er site des annonces en Algerie - Immobilier , Automobiles , Emploi , Informatique , TÃ©lÃ©phonie , Maison , VÃªtements , Voyages\" name=\"description\"/><meta content=\"Annonces - Vente Achat Location - Ouedkniss.com - AlgÃ©rie\" name=\"keywords\"/><link href=\"https://api.ouedkniss.com/graphql\" rel=\"preconnect\"/><link href=\"\" rel=\"preconnect\"/><link href=\"https://cdn7.ouedkniss.com\" rel=\"preconnect\"/><link href=\"https://cdn8.ouedkniss.com\" rel=\"preconnect\"/><link href=\"https://cdn9.ouedkniss.com\" rel=\"preconnect\"/><noscript><img height=\"1\" src=\"https://www.facebook.com/tr?id=655958734553123&amp;ev=PageView&amp;noscript=1\" style=\"display: none\" width=\"1\"/></noscript><style>body {\n",
      "      background: #f5f5f5;\n",
      "    }\n",
      "\n",
      "    #loading {\n",
      "      position: fixed;\n",
      "      display: flex;\n",
      "      justify-content: center;\n",
      "      align-items: center;\n",
      "      width: 100%;\n",
      "      height: 100%;\n",
      "      top: 0;\n",
      "      left: 0;\n",
      "      z-index: 99;\n",
      "    }\n",
      "\n",
      "    #loader {\n",
      "      display: inline-block;\n",
      "      width: 65px;\n",
      "      height: 65px;\n",
      "      border: 2px solid rgba(255, 255, 255, 0.3);\n",
      "      border-radius: 50%;\n",
      "      border-top-color: #e95903;\n",
      "      animation: spin 1s ease-in-out infinite;\n",
      "      -webkit-animation: spin 1s ease-in-out infinite;\n",
      "    }\n",
      "\n",
      "    @keyframes spin {\n",
      "      to {\n",
      "        -webkit-transform: rotate(360deg);\n",
      "      }\n",
      "    }\n",
      "\n",
      "    @-webkit-keyframes spin {\n",
      "      to {\n",
      "        -webkit-transform: rotate(360deg);\n",
      "      }\n",
      "    }</style><script defer=\"defer\" src=\"https://cdn.ouedkniss.com/app/js/vue.m.a5532e75.js\"></script><script defer=\"defer\" src=\"https://cdn.ouedkniss.com/app/js/vendor.m.5c119c6b.js\"></script><script defer=\"defer\" src=\"https://cdn.ouedkniss.com/app/js/vuetify.m.7a5c21c5.js\"></script><script defer=\"defer\" src=\"https://cdn.ouedkniss.com/app/js/main.d733c960.js\"></script><link href=\"https://cdn.ouedkniss.com/app/css/vuetify.m.ccdc967b.css\" rel=\"stylesheet\"/><link href=\"https://cdn.ouedkniss.com/app/css/chunk-vendors.b61a8719.css\" rel=\"stylesheet\"/><link href=\"https://cdn.ouedkniss.com/app/css/main.5beba9b5.css\" rel=\"stylesheet\"/></head><body><noscript><strong data-nosnippet=\"\">We're sorry but Ouedkniss doesn't work properly without JavaScript enabled. Please enable it to continue.</strong></noscript><div id=\"loading\"><div id=\"loader\"></div></div><div id=\"app\"></div></body></html>\n"
     ]
    }
   ],
   "source": [
    "def get_full_page(url):\n",
    "    response=requests.get(url).text\n",
    "    soup=BS(response,'lxml')\n",
    "    return soup\n",
    "print(get_full_page(url))    "
   ]
  },
  {
   "cell_type": "code",
   "execution_count": 17,
   "id": "5225d28c-faf6-4530-8fdb-1e9a913ac554",
   "metadata": {},
   "outputs": [
    {
     "ename": "ModuleNotFoundError",
     "evalue": "No module named 'playwright'",
     "output_type": "error",
     "traceback": [
      "\u001b[0;31m---------------------------------------------------------------------------\u001b[0m",
      "\u001b[0;31mModuleNotFoundError\u001b[0m                       Traceback (most recent call last)",
      "Cell \u001b[0;32mIn[17], line 1\u001b[0m\n\u001b[0;32m----> 1\u001b[0m \u001b[38;5;28;01mfrom\u001b[39;00m \u001b[38;5;21;01mplaywright\u001b[39;00m\u001b[38;5;21;01m.\u001b[39;00m\u001b[38;5;21;01msync_api\u001b[39;00m \u001b[38;5;28;01mimport\u001b[39;00m sync_playwright\n\u001b[1;32m      2\u001b[0m \u001b[38;5;28;01mfrom\u001b[39;00m \u001b[38;5;21;01mbs4\u001b[39;00m \u001b[38;5;28;01mimport\u001b[39;00m BeautifulSoup \u001b[38;5;28;01mas\u001b[39;00m BS\n\u001b[1;32m      4\u001b[0m \u001b[38;5;66;03m# Configuration\u001b[39;00m\n",
      "\u001b[0;31mModuleNotFoundError\u001b[0m: No module named 'playwright'"
     ]
    }
   ],
   "source": [
    "from playwright.sync_api import sync_playwright\n",
    "from bs4 import BeautifulSoup as BS\n",
    "\n",
    "# Configuration\n",
    "city = 'stif-19'\n",
    "page_number = 2\n",
    "category = 'telephones'\n",
    "url = f'https://www.ouedkniss.com/{category}/{page_number}?regionIds={city}'\n",
    "\n",
    "# Use Playwright\n",
    "with sync_playwright() as p:\n",
    "    browser = p.chromium.launch(headless=True)\n",
    "    page = browser.new_page()\n",
    "    page.goto(url)\n",
    "    \n",
    "    # Get the rendered page content\n",
    "    html_content = page.content()\n",
    "    \n",
    "    # Parse with BeautifulSoup\n",
    "    soup = BS(html_content, 'lxml')\n",
    "    browser.close()\n",
    "\n",
    "# Print the parsed HTML\n",
    "print(soup)\n"
   ]
  },
  {
   "cell_type": "code",
   "execution_count": null,
   "id": "ad272b07-345a-4b13-ac83-8ca4300a0204",
   "metadata": {},
   "outputs": [],
   "source": []
  }
 ],
 "metadata": {
  "kernelspec": {
   "display_name": "Python 3 (ipykernel)",
   "language": "python",
   "name": "python3"
  },
  "language_info": {
   "codemirror_mode": {
    "name": "ipython",
    "version": 3
   },
   "file_extension": ".py",
   "mimetype": "text/x-python",
   "name": "python",
   "nbconvert_exporter": "python",
   "pygments_lexer": "ipython3",
   "version": "3.12.7"
  }
 },
 "nbformat": 4,
 "nbformat_minor": 5
}
