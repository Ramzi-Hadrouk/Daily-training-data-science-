{
 "cells": [
  {
   "cell_type": "markdown",
   "id": "e2a51e3f-3a6f-4433-93a7-99ba7ccb381d",
   "metadata": {},
   "source": [
    "<H1 style=\"color:#64ff33; font-size:34px;background:#222 ; border-radius:15px ;\n",
    "    text-align:center ;padding:20px\"> Basics Day  01 </H1>"
   ]
  },
  {
   "cell_type": "code",
   "execution_count": 1,
   "id": "e504c874-f1eb-46f5-8cd5-7610be1cbdc8",
   "metadata": {},
   "outputs": [],
   "source": [
    "from bs4 import BeautifulSoup\n",
    "import requests"
   ]
  },
  {
   "cell_type": "code",
   "execution_count": 2,
   "id": "b804b113-a76a-4ae5-8b9b-d8b504c91d83",
   "metadata": {},
   "outputs": [],
   "source": [
    "url='https://ar.wikipedia.org/wiki/%D9%88%D9%84%D8%A7%D9%8A%D8%A7%D8%AA_%D8%A7%D9%84%D8%AC%D8%B2%D8%A7%D8%A6%D8%B1'\n",
    "response=requests.get(url)"
   ]
  },
  {
   "cell_type": "code",
   "execution_count": 3,
   "id": "553762ed-183a-4ab3-8962-335af773f20b",
   "metadata": {},
   "outputs": [
    {
     "name": "stdout",
     "output_type": "stream",
     "text": [
      "<!DOCTYPE html>\n",
      "<html class=\"client-nojs vector-feature-language-in-header-enabled vector-feature-language-in-main-page-header-disabled vector-feature-sticky-header-disabled vector-feature-page-tools-pinned-disabled vector-feature-toc-pinned-clientpref-1 vector-feature-main-menu-pinned-disabled vector-feature-limited-width-clientpref-1 vector-feature-limited-width-content-enabled vector-feature-custom-font-size-clientpref-1 vector-feature-appearance-pinned-clientpref-1 vector-feature-night-mode-disabled skin-theme-clientpref-day vector-toc-available\" lang=\"ar\" dir=\"rtl\">\n",
      "<head>\n",
      "<meta charset=\"UTF-8\">\n",
      "<title>ولايات الجزائر - ويكيبيديا</title>\n",
      "<script>(function(){var className=\"client-js vector-feature-language-in-header-enabled vector-feature-language-in-main-page-header-disabled vector-feature-sticky-header-disabled vector-feature-page-tools-pinned-disabled vector-feature-toc-pinned-clientpref-1 vector-feature-main-menu-pinned-disabled vector-feature-limited-width-clientpref-1 vector-feature-limited-width-content-enabled vector-feature-custom-font-size-clientpref-1 vector-feature-appearance-pinned-clientpref-1 vector-feature-night-mode-disabled skin-theme-clientpref-day vector-toc-available\";var cookie=document.cookie.match(/(?:^|; )arwikimwclientpreferences=([^;]+)/);if(cookie){cookie[1].split('%2C').forEach(function(pref){className=className.replace(new RegExp('(^| )'+pref.replace(/-clientpref-\\w+$|[^\\w-]+/g,'')+'-clientpref-\\\\w+( |$)'),'$1'+pref+'$2');});}document.documentElement.className=className;}());RLCONF={\"wgBreakFrames\":false,\"wgSeparatorTransformTable\":[\".\\t,\",\"٫\\t٬\"],\"wgDigitTransformTable\":[\n",
      "\"0\\t1\\t2\\t3\\t4\\t5\\t6\\t7\\t8\\t9\",\"٠\\t١\\t٢\\t٣\\t٤\\t٥\\t٦\\t٧\\t٨\\t٩\"],\"wgDefaultDateFormat\":\"dmy\",\"wgMonthNames\":[\"\",\"يناير\",\"فبراير\",\"مارس\",\"أبريل\",\"مايو\",\"يونيو\",\"يوليو\",\"أغسطس\",\"سبتمبر\",\"أكتوبر\",\"نوفمبر\",\"ديسمبر\"],\"wgRequestId\":\"e3f30301-8a42-4dd9-aba7-dd5a27adbed2\",\"wgCanonicalNamespace\":\"\",\"wgCanonicalSpecialPageName\":false,\"wgNamespaceNumber\":0,\"wgPageName\":\"ولايات_\n"
     ]
    }
   ],
   "source": [
    "print(response.text[:2000])"
   ]
  },
  {
   "cell_type": "code",
   "execution_count": 4,
   "id": "7c1c7417-0fb2-4531-9acf-274cf6d72913",
   "metadata": {},
   "outputs": [],
   "source": [
    "soup=BeautifulSoup(response.text,'html.parser')\n",
    "#print(soup)"
   ]
  },
  {
   "cell_type": "code",
   "execution_count": 5,
   "id": "657e276c-d9c0-4872-986e-fb2d980a3bdb",
   "metadata": {},
   "outputs": [],
   "source": [
    "#print(soup.table)"
   ]
  },
  {
   "cell_type": "code",
   "execution_count": 6,
   "id": "15097261-c1f8-4cc1-bd43-f03b084135df",
   "metadata": {},
   "outputs": [
    {
     "name": "stdout",
     "output_type": "stream",
     "text": [
      "<tr><td class=\"mbox-image\"><div class=\"mbox-image-div\"><span typeof=\"mw:File\"><a class=\"mw-file-description\" href=\"/wiki/%D9%85%D9%84%D9%81:Template_icon.svg\"><img class=\"mw-file-element\" data-file-height=\"128\" data-file-width=\"128\" decoding=\"async\" height=\"20\" src=\"//upload.wikimedia.org/wikipedia/commons/thumb/f/fb/Template_icon.svg/20px-Template_icon.svg.png\" srcset=\"//upload.wikimedia.org/wikipedia/commons/thumb/f/fb/Template_icon.svg/30px-Template_icon.svg.png 1.5x, //upload.wikimedia.org/wikipedia/commons/thumb/f/fb/Template_icon.svg/40px-Template_icon.svg.png 2x\" width=\"20\"/></a></span></div></td><td class=\"mbox-text\"><div class=\"mbox-text-span\">هذه المقالة <b>بحاجة <a href=\"/wiki/%D9%88%D9%8A%D9%83%D9%8A%D8%A8%D9%8A%D8%AF%D9%8A%D8%A7:%D8%AF%D9%84%D9%8A%D9%84_%D8%A7%D9%84%D8%A3%D8%B3%D9%84%D9%88%D8%A8/%D8%B5%D9%86%D8%A7%D8%AF%D9%8A%D9%82_%D8%A7%D9%84%D9%85%D8%B9%D9%84%D9%88%D9%85%D8%A7%D8%AA\" title=\"ويكيبيديا:دليل الأسلوب/صناديق المعلومات\">لصندوق معلومات</a></b>.<span class=\"hide-when-compact\"> فضلًا ساعد في <a class=\"external text\" href=\"https://ar.wikipedia.org/w/index.php?title=%D9%88%D9%84%D8%A7%D9%8A%D8%A7%D8%AA_%D8%A7%D9%84%D8%AC%D8%B2%D8%A7%D8%A6%D8%B1&amp;action=edit\">تحسين هذه المقالة</a> بإضافة <a href=\"/wiki/%D9%85%D8%B3%D8%A7%D8%B9%D8%AF%D8%A9:%D9%82%D8%A7%D8%A6%D9%85%D8%A9_%D8%B5%D9%86%D8%A7%D8%AF%D9%8A%D9%82_%D8%A7%D9%84%D9%85%D8%B9%D9%84%D9%88%D9%85%D8%A7%D8%AA\" title=\"مساعدة:قائمة صناديق المعلومات\">صندوق معلومات مخصص</a> إليها.</span><span class=\"hide-when-compact\"><i><span style=\"float:left;\"><span typeof=\"mw:File\"><a href=\"/wiki/%D9%85%D8%B3%D8%A7%D8%B9%D8%AF%D8%A9:%D8%A5%D8%B2%D8%A7%D9%84%D8%A9_%D9%82%D9%88%D8%A7%D9%84%D8%A8_%D8%A7%D9%84%D8%B5%D9%8A%D8%A7%D9%86%D8%A9\" title=\"تعرَّف على طريقة التعامل مع هذه المسألة من أجل إزالة هذا القالب.\"><img alt=\"تعرَّف على طريقة التعامل مع هذه المسألة من أجل إزالة هذا القالب.\" class=\"mw-file-element\" data-file-height=\"512\" data-file-width=\"512\" decoding=\"async\" height=\"20\" src=\"//upload.wikimedia.org/wikipedia/commons/thumb/e/e9/Breezeicons-actions-22-help-about.svg/20px-Breezeicons-actions-22-help-about.svg.png\" srcset=\"//upload.wikimedia.org/wikipedia/commons/thumb/e/e9/Breezeicons-actions-22-help-about.svg/30px-Breezeicons-actions-22-help-about.svg.png 1.5x, //upload.wikimedia.org/wikipedia/commons/thumb/e/e9/Breezeicons-actions-22-help-about.svg/40px-Breezeicons-actions-22-help-about.svg.png 2x\" width=\"20\"/></a></span></span></i></span></div></td></tr>\n"
     ]
    }
   ],
   "source": [
    "print(soup.tr)"
   ]
  },
  {
   "cell_type": "code",
   "execution_count": 7,
   "id": "9d0b2f02-c97d-4fb5-b8bd-46ccc703fce8",
   "metadata": {},
   "outputs": [
    {
     "name": "stdout",
     "output_type": "stream",
     "text": [
      "tr\n",
      "ولايات الجزائر\n",
      "['box-لا_صندوق_معلومات', 'plainlinks', 'metadata', 'ambox', 'ambox-content', 'ambox-no_infobox']\n"
     ]
    }
   ],
   "source": [
    "print(soup.tr.name)\n",
    "print(soup.h1.string)\n",
    "print(soup.table['class'])"
   ]
  },
  {
   "cell_type": "code",
   "execution_count": 8,
   "id": "ed48dc83-caa4-4acf-a8b9-5726337f27eb",
   "metadata": {},
   "outputs": [],
   "source": [
    "span_list=soup.find_all('span')\n",
    "#for span in span_list :\n",
    "    #print(span.string)\n"
   ]
  },
  {
   "cell_type": "code",
   "execution_count": 9,
   "id": "b84d0969-0869-4d1e-a8cc-4feb029c0b5d",
   "metadata": {},
   "outputs": [
    {
     "name": "stdout",
     "output_type": "stream",
     "text": [
      "<table class=\"box-لا_صندوق_معلومات plainlinks metadata ambox ambox-content ambox-no_infobox\" role=\"presentation\" style=\"display:none;\"><tbody><tr><td class=\"mbox-image\"><div class=\"mbox-image-div\"><span typeof=\"mw:File\"><a class=\"mw-file-description\" href=\"/wiki/%D9%85%D9%84%D9%81:Template_icon.svg\"><img class=\"mw-file-element\" data-file-height=\"128\" data-file-width=\"128\" decoding=\"async\" height=\"20\" src=\"//upload.wikimedia.org/wikipedia/commons/thumb/f/fb/Template_icon.svg/20px-Template_icon.svg.png\" srcset=\"//upload.wikimedia.org/wikipedia/commons/thumb/f/fb/Template_icon.svg/30px-Template_icon.svg.png 1.5x, //upload.wikimedia.org/wikipedia/commons/thumb/f/fb/Template_icon.svg/40px-Template_icon.svg.png 2x\" width=\"20\"/></a></span></div></td><td class=\"mbox-text\"><div class=\"mbox-text-span\">هذه المقالة <b>بحاجة <a href=\"/wiki/%D9%88%D9%8A%D9%83%D9%8A%D8%A8%D9%8A%D8%AF%D9%8A%D8%A7:%D8%AF%D9%84%D9%8A%D9%84_%D8%A7%D9%84%D8%A3%D8%B3%D9%84%D9%88%D8%A8/%D8%B5%D9%86%D8%A7%D8%AF%D9%8A%D9%82_%D8%A7%D9%84%D9%85%D8%B9%D9%84%D9%88%D9%85%D8%A7%D8%AA\" title=\"ويكيبيديا:دليل الأسلوب/صناديق المعلومات\">لصندوق معلومات</a></b>.<span class=\"hide-when-compact\"> فضلًا ساعد في <a class=\"external text\" href=\"https://ar.wikipedia.org/w/index.php?title=%D9%88%D9%84%D8%A7%D9%8A%D8%A7%D8%AA_%D8%A7%D9%84%D8%AC%D8%B2%D8%A7%D8%A6%D8%B1&amp;action=edit\">تحسين هذه المقالة</a> بإضافة <a href=\"/wiki/%D9%85%D8%B3%D8%A7%D8%B9%D8%AF%D8%A9:%D9%82%D8%A7%D8%A6%D9%85%D8%A9_%D8%B5%D9%86%D8%A7%D8%AF%D9%8A%D9%82_%D8%A7%D9%84%D9%85%D8%B9%D9%84%D9%88%D9%85%D8%A7%D8%AA\" title=\"مساعدة:قائمة صناديق المعلومات\">صندوق معلومات مخصص</a> إليها.</span><span class=\"hide-when-compact\"><i><span style=\"float:left;\"><span typeof=\"mw:File\"><a href=\"/wiki/%D9%85%D8%B3%D8%A7%D8%B9%D8%AF%D8%A9:%D8%A5%D8%B2%D8%A7%D9%84%D8%A9_%D9%82%D9%88%D8%A7%D9%84%D8%A8_%D8%A7%D9%84%D8%B5%D9%8A%D8%A7%D9%86%D8%A9\" title=\"تعرَّف على طريقة التعامل مع هذه المسألة من أجل إزالة هذا القالب.\"><img alt=\"تعرَّف على طريقة التعامل مع هذه المسألة من أجل إزالة هذا القالب.\" class=\"mw-file-element\" data-file-height=\"512\" data-file-width=\"512\" decoding=\"async\" height=\"20\" src=\"//upload.wikimedia.org/wikipedia/commons/thumb/e/e9/Breezeicons-actions-22-help-about.svg/20px-Breezeicons-actions-22-help-about.svg.png\" srcset=\"//upload.wikimedia.org/wikipedia/commons/thumb/e/e9/Breezeicons-actions-22-help-about.svg/30px-Breezeicons-actions-22-help-about.svg.png 1.5x, //upload.wikimedia.org/wikipedia/commons/thumb/e/e9/Breezeicons-actions-22-help-about.svg/40px-Breezeicons-actions-22-help-about.svg.png 2x\" width=\"20\"/></a></span></span></i></span></div></td></tr></tbody></table>\n"
     ]
    }
   ],
   "source": [
    "table=soup.table\n",
    "print (table)"
   ]
  },
  {
   "cell_type": "code",
   "execution_count": 10,
   "id": "3303feb5-c126-4705-8a6d-e1bf94a83035",
   "metadata": {},
   "outputs": [
    {
     "name": "stdout",
     "output_type": "stream",
     "text": [
      "<img class=\"mw-file-element\" data-file-height=\"128\" data-file-width=\"128\" decoding=\"async\" height=\"20\" src=\"//upload.wikimedia.org/wikipedia/commons/thumb/f/fb/Template_icon.svg/20px-Template_icon.svg.png\" srcset=\"//upload.wikimedia.org/wikipedia/commons/thumb/f/fb/Template_icon.svg/30px-Template_icon.svg.png 1.5x, //upload.wikimedia.org/wikipedia/commons/thumb/f/fb/Template_icon.svg/40px-Template_icon.svg.png 2x\" width=\"20\"/>\n"
     ]
    }
   ],
   "source": [
    "print(table.find_all(width=\"20\")[0])"
   ]
  },
  {
   "cell_type": "code",
   "execution_count": 11,
   "id": "a285ad17-c97c-4516-80ae-6b10cc13274a",
   "metadata": {},
   "outputs": [],
   "source": [
    "#for link in soup.find_all('a'):\n",
    " #print(link.get('href'))"
   ]
  },
  {
   "cell_type": "code",
   "execution_count": 12,
   "id": "3fba445a-d16c-49a3-b3cb-79f1e9293df2",
   "metadata": {},
   "outputs": [
    {
     "name": "stdout",
     "output_type": "stream",
     "text": [
      "هذه المقالة بحاجة لصندوق معلومات. فضلًا ساعد في تحسين هذه المقالة بإضافة صندوق معلومات مخصص إليها.\n"
     ]
    }
   ],
   "source": [
    "print(table.get_text())"
   ]
  },
  {
   "cell_type": "code",
   "execution_count": 13,
   "id": "1d450247-00b1-4049-b9d4-23b21a26a8e8",
   "metadata": {},
   "outputs": [],
   "source": [
    "soup=BeautifulSoup(response.text,'lxml')"
   ]
  },
  {
   "cell_type": "code",
   "execution_count": 14,
   "id": "fe07ce6d-ee25-444d-8529-7917cc979cd2",
   "metadata": {},
   "outputs": [
    {
     "name": "stdout",
     "output_type": "stream",
     "text": [
      "<html><body><p>Sacré bleu!</p></body></html>\n"
     ]
    }
   ],
   "source": [
    "soup=BeautifulSoup(\"Sacr&eacute; bleu!\")\n",
    "print(soup)"
   ]
  },
  {
   "cell_type": "markdown",
   "id": "a01d9f53-e0c1-4e56-bb7d-213446685d03",
   "metadata": {},
   "source": [
    "<H1 style=\"color:#64ff33; font-size:34px;background:#222 ; border-radius:15px ; text-align:center ;padding:20px\"> Day 02</H1>"
   ]
  },
  {
   "cell_type": "code",
   "execution_count": 15,
   "id": "f4ff1e89-507d-420f-a1e1-9da5654e937a",
   "metadata": {},
   "outputs": [
    {
     "name": "stdout",
     "output_type": "stream",
     "text": [
      "<b class=\"two\" id=\"10\">Extremely bold</b>\n"
     ]
    }
   ],
   "source": [
    "soup = BeautifulSoup('<b id=10 class=\"two\">Extremely bold</b> <b class=\"one\">Extremely bold</b> <p class=\"body strikeout\"></p>')\n",
    "tag = soup.b\n",
    "print(tag)"
   ]
  },
  {
   "cell_type": "code",
   "execution_count": 16,
   "id": "731b4dd2-dd80-4834-98d8-b02c3a9460e5",
   "metadata": {},
   "outputs": [
    {
     "data": {
      "text/plain": [
       "<blockquote class=\"two\" id=\"10\">Extremely bold</blockquote>"
      ]
     },
     "execution_count": 16,
     "metadata": {},
     "output_type": "execute_result"
    }
   ],
   "source": [
    "tag.name = \"blockquote\"\n",
    "tag"
   ]
  },
  {
   "cell_type": "code",
   "execution_count": 17,
   "id": "b4def6f1-1777-471e-a237-1d510944aa4e",
   "metadata": {},
   "outputs": [
    {
     "data": {
      "text/plain": [
       "'10'"
      ]
     },
     "execution_count": 17,
     "metadata": {},
     "output_type": "execute_result"
    }
   ],
   "source": [
    "tag['id']"
   ]
  },
  {
   "cell_type": "code",
   "execution_count": 18,
   "id": "8388be75-c2aa-4b66-880e-302def068fcf",
   "metadata": {},
   "outputs": [
    {
     "data": {
      "text/plain": [
       "<blockquote class=\"two\" id=\"10\">Extremely bold</blockquote>"
      ]
     },
     "execution_count": 18,
     "metadata": {},
     "output_type": "execute_result"
    }
   ],
   "source": [
    "tag"
   ]
  },
  {
   "cell_type": "code",
   "execution_count": 19,
   "id": "655c7d09-cc57-44a4-aa0e-8077736d81e9",
   "metadata": {},
   "outputs": [
    {
     "data": {
      "text/plain": [
       "['two']"
      ]
     },
     "execution_count": 19,
     "metadata": {},
     "output_type": "execute_result"
    }
   ],
   "source": [
    "tag['class']"
   ]
  },
  {
   "cell_type": "code",
   "execution_count": 20,
   "id": "fa522e86-91eb-40fb-9aab-8693556b7e5d",
   "metadata": {},
   "outputs": [
    {
     "data": {
      "text/plain": [
       "'blockquote'"
      ]
     },
     "execution_count": 20,
     "metadata": {},
     "output_type": "execute_result"
    }
   ],
   "source": [
    "tag.name\n"
   ]
  },
  {
   "cell_type": "code",
   "execution_count": 21,
   "id": "05852afe-630b-4c0d-bfbf-91bf56abd3cf",
   "metadata": {},
   "outputs": [],
   "source": [
    "del tag['id']\n"
   ]
  },
  {
   "cell_type": "code",
   "execution_count": 22,
   "id": "381c3c9a-bad7-42f0-ad18-fd99b003927a",
   "metadata": {},
   "outputs": [
    {
     "data": {
      "text/plain": [
       "<blockquote class=\"two\">Extremely bold</blockquote>"
      ]
     },
     "execution_count": 22,
     "metadata": {},
     "output_type": "execute_result"
    }
   ],
   "source": [
    "tag"
   ]
  },
  {
   "cell_type": "code",
   "execution_count": 23,
   "id": "b50a601d-afd6-4f97-a154-807297d88c4e",
   "metadata": {},
   "outputs": [
    {
     "name": "stdout",
     "output_type": "stream",
     "text": [
      "None\n"
     ]
    }
   ],
   "source": [
    "print(tag.get('id'))"
   ]
  },
  {
   "cell_type": "code",
   "execution_count": 24,
   "id": "9e0a93fc-a178-4588-b267-096f4f78cdaa",
   "metadata": {},
   "outputs": [
    {
     "data": {
      "text/plain": [
       "['body', 'strikeout']"
      ]
     },
     "execution_count": 24,
     "metadata": {},
     "output_type": "execute_result"
    }
   ],
   "source": [
    "soup.p.get('class')"
   ]
  },
  {
   "cell_type": "code",
   "execution_count": 25,
   "id": "78000120-dade-4e43-a642-9772c8cbaff3",
   "metadata": {},
   "outputs": [
    {
     "data": {
      "text/plain": [
       "'body strikeout'"
      ]
     },
     "execution_count": 25,
     "metadata": {},
     "output_type": "execute_result"
    }
   ],
   "source": [
    "no_list_soup = BeautifulSoup('<p class=\"body strikeout\"></p>', 'html', multi_valued_attributes=None)\n",
    "no_list_soup.p['class']"
   ]
  },
  {
   "cell_type": "code",
   "execution_count": 26,
   "id": "ae240516-4cca-4e6c-9168-665063ed89d3",
   "metadata": {},
   "outputs": [
    {
     "data": {
      "text/plain": [
       "['body strikeout']"
      ]
     },
     "execution_count": 26,
     "metadata": {},
     "output_type": "execute_result"
    }
   ],
   "source": [
    "no_list_soup.p.get_attribute_list('class')"
   ]
  },
  {
   "cell_type": "code",
   "execution_count": 27,
   "id": "99378714-aaf1-483f-a9bc-afdc7e23e176",
   "metadata": {},
   "outputs": [
    {
     "name": "stdout",
     "output_type": "stream",
     "text": [
      "None\n",
      "Heloo\n"
     ]
    }
   ],
   "source": [
    "print(no_list_soup.p.string)\n",
    "no_list_soup.p.string=\"Heloo\"\n",
    "print(no_list_soup.p.string)\n"
   ]
  },
  {
   "cell_type": "code",
   "execution_count": 28,
   "id": "1bfc39ef-8966-438f-89cf-ad6fb292acd8",
   "metadata": {},
   "outputs": [
    {
     "data": {
      "text/plain": [
       "<p class=\"body strikeout\">Heloo</p>"
      ]
     },
     "execution_count": 28,
     "metadata": {},
     "output_type": "execute_result"
    }
   ],
   "source": [
    "no_list_soup.p\n"
   ]
  },
  {
   "cell_type": "code",
   "execution_count": 29,
   "id": "2c60fa32-727c-4b1f-85a3-78c6b532417b",
   "metadata": {},
   "outputs": [
    {
     "name": "stdout",
     "output_type": "stream",
     "text": [
      "<html><body><main><html><body><footer>Here's the footer</footer></body></html></main></body></html>\n"
     ]
    }
   ],
   "source": [
    "doc = BeautifulSoup(\"<main>INSERT FOOTER HERE</main>\", \"lxml\")\n",
    "footer = BeautifulSoup(\"<footer>Here's the footer</footer>\", \"lxml\")\n",
    "doc.find(string=\"INSERT FOOTER HERE\").replace_with(footer)\n",
    "# u'INSERT FOOTER HERE'\n",
    "print(doc)"
   ]
  },
  {
   "cell_type": "markdown",
   "id": "a26a67a6-b4a3-4e2d-bdf2-8ec5cc7c7bf4",
   "metadata": {},
   "source": [
    "<H1 style=\"color:#64ff33; font-size:34px;background:#222 ; border-radius:15px ; text-align:center ;padding:20px\"> Day 03\n",
    "</H1>"
   ]
  },
  {
   "cell_type": "code",
   "execution_count": 31,
   "id": "edfcdc5a-e0d1-4e3a-8658-fdcc75d64a81",
   "metadata": {},
   "outputs": [
    {
     "data": {
      "text/plain": [
       "'[document]'"
      ]
     },
     "execution_count": 31,
     "metadata": {},
     "output_type": "execute_result"
    }
   ],
   "source": [
    "soup.name"
   ]
  },
  {
   "cell_type": "code",
   "execution_count": 32,
   "id": "3f4d4260-ed38-468a-9337-ec3e7bd9ddbb",
   "metadata": {},
   "outputs": [
    {
     "data": {
      "text/plain": [
       "bs4.element.Comment"
      ]
     },
     "execution_count": 32,
     "metadata": {},
     "output_type": "execute_result"
    }
   ],
   "source": [
    "markup = \"<b><!--Hey, buddy. Want to buy a used parser?--></b>\"\n",
    "soup = BeautifulSoup(markup)\n",
    "comment = soup.b.string\n",
    "type(comment)"
   ]
  },
  {
   "cell_type": "code",
   "execution_count": 33,
   "id": "e56b3ef5-3272-4442-8ca2-65e9c707a240",
   "metadata": {},
   "outputs": [
    {
     "data": {
      "text/plain": [
       "'Hey, buddy. Want to buy a used parser?'"
      ]
     },
     "execution_count": 33,
     "metadata": {},
     "output_type": "execute_result"
    }
   ],
   "source": [
    "comment"
   ]
  },
  {
   "cell_type": "code",
   "execution_count": 37,
   "id": "70f61224-e46a-4072-b17b-5ead5bcff938",
   "metadata": {},
   "outputs": [
    {
     "name": "stdout",
     "output_type": "stream",
     "text": [
      "<html>\n",
      " <body>\n",
      "  <b>\n",
      "   <!--Hey, buddy. Want to buy a used parser?-->\n",
      "  </b>\n",
      " </body>\n",
      "</html>\n",
      "\n"
     ]
    }
   ],
   "source": [
    "print(soup.prettify())"
   ]
  },
  {
   "cell_type": "code",
   "execution_count": 39,
   "id": "0404f778-44a0-4379-95bc-3624f82bf13d",
   "metadata": {},
   "outputs": [
    {
     "name": "stdout",
     "output_type": "stream",
     "text": [
      "<b>\n",
      " <!--Hey, buddy. Want to buy a used parser?-->\n",
      "</b>\n",
      "\n"
     ]
    }
   ],
   "source": [
    "print(soup.b.prettify())"
   ]
  },
  {
   "cell_type": "code",
   "execution_count": null,
   "id": "4a72a8d5-39f9-4461-af2c-c63e934ab50c",
   "metadata": {},
   "outputs": [],
   "source": []
  }
 ],
 "metadata": {
  "kernelspec": {
   "display_name": "Python 3 (ipykernel)",
   "language": "python",
   "name": "python3"
  },
  "language_info": {
   "codemirror_mode": {
    "name": "ipython",
    "version": 3
   },
   "file_extension": ".py",
   "mimetype": "text/x-python",
   "name": "python",
   "nbconvert_exporter": "python",
   "pygments_lexer": "ipython3",
   "version": "3.12.7"
  }
 },
 "nbformat": 4,
 "nbformat_minor": 5
}
