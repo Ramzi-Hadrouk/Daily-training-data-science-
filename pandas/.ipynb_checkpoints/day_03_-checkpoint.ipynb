{
 "cells": [
  {
   "cell_type": "markdown",
   "id": "54a680cb-df30-4535-8a85-d0224d6b0016",
   "metadata": {},
   "source": [
    "<H1 style=\"color:#64ff33; font-size:34px;background:#222 ; border-radius:15px ; text-align:center ;padding:20px\"> Group By </H1>"
   ]
  },
  {
   "cell_type": "code",
   "execution_count": 1,
   "id": "a44c9400-cb31-4ce1-aa3f-c31de65ea3a4",
   "metadata": {},
   "outputs": [],
   "source": [
    "import pandas as pd "
   ]
  },
  {
   "cell_type": "code",
   "execution_count": 2,
   "id": "4e1fa8e8-9287-4d4c-b124-39db6a6b6829",
   "metadata": {},
   "outputs": [],
   "source": [
    "df=pd.read_csv('/home/geek/Desktop/DE/data/Flavors.csv')"
   ]
  },
  {
   "cell_type": "code",
   "execution_count": 10,
   "id": "5c9a587a-3508-4a82-8907-8a5f4bf86c37",
   "metadata": {},
   "outputs": [
    {
     "data": {
      "text/html": [
       "<div>\n",
       "<style scoped>\n",
       "    .dataframe tbody tr th:only-of-type {\n",
       "        vertical-align: middle;\n",
       "    }\n",
       "\n",
       "    .dataframe tbody tr th {\n",
       "        vertical-align: top;\n",
       "    }\n",
       "\n",
       "    .dataframe thead th {\n",
       "        text-align: right;\n",
       "    }\n",
       "</style>\n",
       "<table border=\"1\" class=\"dataframe\">\n",
       "  <thead>\n",
       "    <tr style=\"text-align: right;\">\n",
       "      <th></th>\n",
       "      <th>Flavor</th>\n",
       "      <th>Base Flavor</th>\n",
       "      <th>Flavor Rating</th>\n",
       "    </tr>\n",
       "  </thead>\n",
       "  <tbody>\n",
       "    <tr>\n",
       "      <th>0</th>\n",
       "      <td>Mint Chocolate Chip</td>\n",
       "      <td>Vanilla</td>\n",
       "      <td>10.0</td>\n",
       "    </tr>\n",
       "    <tr>\n",
       "      <th>1</th>\n",
       "      <td>Chocolate</td>\n",
       "      <td>Chocolate</td>\n",
       "      <td>8.8</td>\n",
       "    </tr>\n",
       "    <tr>\n",
       "      <th>2</th>\n",
       "      <td>Vanilla</td>\n",
       "      <td>Vanilla</td>\n",
       "      <td>4.7</td>\n",
       "    </tr>\n",
       "    <tr>\n",
       "      <th>3</th>\n",
       "      <td>Cookie Dough</td>\n",
       "      <td>Vanilla</td>\n",
       "      <td>6.9</td>\n",
       "    </tr>\n",
       "    <tr>\n",
       "      <th>4</th>\n",
       "      <td>Rocky Road</td>\n",
       "      <td>Chocolate</td>\n",
       "      <td>8.2</td>\n",
       "    </tr>\n",
       "  </tbody>\n",
       "</table>\n",
       "</div>"
      ],
      "text/plain": [
       "                Flavor Base Flavor  Flavor Rating\n",
       "0  Mint Chocolate Chip     Vanilla           10.0\n",
       "1            Chocolate   Chocolate            8.8\n",
       "2              Vanilla     Vanilla            4.7\n",
       "3         Cookie Dough     Vanilla            6.9\n",
       "4           Rocky Road   Chocolate            8.2"
      ]
     },
     "execution_count": 10,
     "metadata": {},
     "output_type": "execute_result"
    }
   ],
   "source": [
    "df.filter(items=['Flavor','Base Flavor','Flavor Rating']).head(5)"
   ]
  },
  {
   "cell_type": "code",
   "execution_count": 15,
   "id": "512f5751-16aa-4405-9fc9-e7c062cfa6ac",
   "metadata": {},
   "outputs": [],
   "source": [
    "grouped_df=df.groupby('Base Flavor')\n"
   ]
  },
  {
   "cell_type": "code",
   "execution_count": 22,
   "id": "36b76fec-e308-4d32-8642-6eaec1196f8d",
   "metadata": {},
   "outputs": [
    {
     "data": {
      "text/html": [
       "<div>\n",
       "<style scoped>\n",
       "    .dataframe tbody tr th:only-of-type {\n",
       "        vertical-align: middle;\n",
       "    }\n",
       "\n",
       "    .dataframe tbody tr th {\n",
       "        vertical-align: top;\n",
       "    }\n",
       "\n",
       "    .dataframe thead th {\n",
       "        text-align: right;\n",
       "    }\n",
       "</style>\n",
       "<table border=\"1\" class=\"dataframe\">\n",
       "  <thead>\n",
       "    <tr style=\"text-align: right;\">\n",
       "      <th></th>\n",
       "      <th>Flavor</th>\n",
       "      <th>Base Flavor</th>\n",
       "      <th>Flavor Rating</th>\n",
       "    </tr>\n",
       "  </thead>\n",
       "  <tbody>\n",
       "    <tr>\n",
       "      <th>1</th>\n",
       "      <td>Chocolate</td>\n",
       "      <td>Chocolate</td>\n",
       "      <td>8.8</td>\n",
       "    </tr>\n",
       "    <tr>\n",
       "      <th>4</th>\n",
       "      <td>Rocky Road</td>\n",
       "      <td>Chocolate</td>\n",
       "      <td>8.2</td>\n",
       "    </tr>\n",
       "  </tbody>\n",
       "</table>\n",
       "</div>"
      ],
      "text/plain": [
       "       Flavor Base Flavor  Flavor Rating\n",
       "1   Chocolate   Chocolate            8.8\n",
       "4  Rocky Road   Chocolate            8.2"
      ]
     },
     "execution_count": 22,
     "metadata": {},
     "output_type": "execute_result"
    }
   ],
   "source": [
    "grouped_df.get_group('Chocolate').filter(items=['Flavor','Base Flavor','Flavor Rating']).head(2)"
   ]
  },
  {
   "cell_type": "code",
   "execution_count": 24,
   "id": "c6b4c708-e782-40cf-b6b8-be7a9ce313ec",
   "metadata": {},
   "outputs": [
    {
     "data": {
      "text/html": [
       "<div>\n",
       "<style scoped>\n",
       "    .dataframe tbody tr th:only-of-type {\n",
       "        vertical-align: middle;\n",
       "    }\n",
       "\n",
       "    .dataframe tbody tr th {\n",
       "        vertical-align: top;\n",
       "    }\n",
       "\n",
       "    .dataframe thead th {\n",
       "        text-align: right;\n",
       "    }\n",
       "</style>\n",
       "<table border=\"1\" class=\"dataframe\">\n",
       "  <thead>\n",
       "    <tr style=\"text-align: right;\">\n",
       "      <th></th>\n",
       "      <th>Flavor</th>\n",
       "      <th>Base Flavor</th>\n",
       "      <th>Flavor Rating</th>\n",
       "    </tr>\n",
       "  </thead>\n",
       "  <tbody>\n",
       "    <tr>\n",
       "      <th>0</th>\n",
       "      <td>Mint Chocolate Chip</td>\n",
       "      <td>Vanilla</td>\n",
       "      <td>10.0</td>\n",
       "    </tr>\n",
       "    <tr>\n",
       "      <th>2</th>\n",
       "      <td>Vanilla</td>\n",
       "      <td>Vanilla</td>\n",
       "      <td>4.7</td>\n",
       "    </tr>\n",
       "    <tr>\n",
       "      <th>3</th>\n",
       "      <td>Cookie Dough</td>\n",
       "      <td>Vanilla</td>\n",
       "      <td>6.9</td>\n",
       "    </tr>\n",
       "  </tbody>\n",
       "</table>\n",
       "</div>"
      ],
      "text/plain": [
       "                Flavor Base Flavor  Flavor Rating\n",
       "0  Mint Chocolate Chip     Vanilla           10.0\n",
       "2              Vanilla     Vanilla            4.7\n",
       "3         Cookie Dough     Vanilla            6.9"
      ]
     },
     "execution_count": 24,
     "metadata": {},
     "output_type": "execute_result"
    }
   ],
   "source": [
    "grouped_df.get_group('Vanilla').filter(items=['Flavor','Base Flavor','Flavor Rating']).head(3)"
   ]
  },
  {
   "cell_type": "code",
   "execution_count": 16,
   "id": "b8a9ce40-e3ab-475c-af47-042dee161509",
   "metadata": {},
   "outputs": [
    {
     "name": "stdout",
     "output_type": "stream",
     "text": [
      "Chocolate\n",
      "                   Flavor Base Flavor Liked  Flavor Rating  Texture Rating  \\\n",
      "1               Chocolate   Chocolate   Yes            8.8             7.6   \n",
      "4              Rocky Road   Chocolate   Yes            8.2             7.0   \n",
      "8  Chocolte Fudge Brownie   Chocolate   Yes            8.2             7.1   \n",
      "\n",
      "   Total Rating  \n",
      "1          16.6  \n",
      "4          15.2  \n",
      "8          15.3  \n",
      "Vanilla\n",
      "                Flavor Base Flavor Liked  Flavor Rating  Texture Rating  \\\n",
      "0  Mint Chocolate Chip     Vanilla   Yes           10.0             8.0   \n",
      "2              Vanilla     Vanilla    No            4.7             5.0   \n",
      "3         Cookie Dough     Vanilla   Yes            6.9             6.5   \n",
      "5            Pistachio     Vanilla    No            2.3             3.4   \n",
      "6          Cake Batter     Vanilla   Yes            6.5             6.0   \n",
      "7           Neapolitan     Vanilla    No            3.8             5.0   \n",
      "\n",
      "   Total Rating  \n",
      "0          18.0  \n",
      "2           9.7  \n",
      "3          13.4  \n",
      "5           5.7  \n",
      "6          12.5  \n",
      "7           8.8  \n"
     ]
    }
   ],
   "source": [
    "for base_flavor , base_flavor_df in grouped_df:\n",
    "    print (base_flavor)\n",
    "    print (base_flavor_df)"
   ]
  },
  {
   "cell_type": "code",
   "execution_count": null,
   "id": "5cebeeba-5213-46dc-8dbe-c9d27979c554",
   "metadata": {},
   "outputs": [],
   "source": []
  }
 ],
 "metadata": {
  "kernelspec": {
   "display_name": "Python 3 (ipykernel)",
   "language": "python",
   "name": "python3"
  },
  "language_info": {
   "codemirror_mode": {
    "name": "ipython",
    "version": 3
   },
   "file_extension": ".py",
   "mimetype": "text/x-python",
   "name": "python",
   "nbconvert_exporter": "python",
   "pygments_lexer": "ipython3",
   "version": "3.12.7"
  }
 },
 "nbformat": 4,
 "nbformat_minor": 5
}
