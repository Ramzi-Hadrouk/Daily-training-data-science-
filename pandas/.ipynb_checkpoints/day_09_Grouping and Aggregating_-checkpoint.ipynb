{
 "cells": [
  {
   "cell_type": "markdown",
   "id": "f5fd56a8-162a-434d-ba76-83f549978078",
   "metadata": {},
   "source": [
    "<H1 style=\"color:#64ff33; font-size:34px;background:#222 ; border-radius:15px ; text-align:center ;padding:20px\"> Grouping and Aggregating</H1>"
   ]
  },
  {
   "cell_type": "code",
   "execution_count": 14,
   "id": "dfc21f00-d0c6-430d-9410-45beec381fae",
   "metadata": {},
   "outputs": [],
   "source": [
    "import pandas as pd\n"
   ]
  },
  {
   "cell_type": "code",
   "execution_count": 19,
   "id": "c4cb8df7-e7a7-4265-baa8-c311a8f970c1",
   "metadata": {},
   "outputs": [],
   "source": [
    "# Create a sample series\n",
    "numbers = pd.Series([1, 2, 3,4, 4, 100,100])\n",
    "\n"
   ]
  },
  {
   "cell_type": "code",
   "execution_count": 20,
   "id": "cff8c934-80ad-468c-8fb3-5191b19c7e3b",
   "metadata": {},
   "outputs": [
    {
     "name": "stdout",
     "output_type": "stream",
     "text": [
      "30.571428571428573\n"
     ]
    }
   ],
   "source": [
    "print( numbers.mean() )   "
   ]
  },
  {
   "cell_type": "code",
   "execution_count": 21,
   "id": "cfb31268-ffe9-4448-a5b9-9f0be422dfd8",
   "metadata": {},
   "outputs": [
    {
     "name": "stdout",
     "output_type": "stream",
     "text": [
      "4.0\n"
     ]
    }
   ],
   "source": [
    "print(numbers.median() ) "
   ]
  },
  {
   "cell_type": "code",
   "execution_count": 22,
   "id": "37619b1a-79c2-4992-ae4d-c82ed34af8f3",
   "metadata": {},
   "outputs": [
    {
     "name": "stdout",
     "output_type": "stream",
     "text": [
      "0      4\n",
      "1    100\n",
      "dtype: int64\n"
     ]
    }
   ],
   "source": [
    "print(numbers.mode() ) \n"
   ]
  },
  {
   "cell_type": "code",
   "execution_count": 23,
   "id": "3af3eb2c-a88f-46a5-9ffb-3e6867f492d2",
   "metadata": {},
   "outputs": [
    {
     "name": "stdout",
     "output_type": "stream",
     "text": [
      "7\n"
     ]
    }
   ],
   "source": [
    "print(numbers.count() ) "
   ]
  },
  {
   "cell_type": "code",
   "execution_count": 27,
   "id": "5bfdf76f-1928-4eeb-9ffd-c817d1ecc127",
   "metadata": {},
   "outputs": [
    {
     "name": "stdout",
     "output_type": "stream",
     "text": [
      "4      2\n",
      "100    2\n",
      "1      1\n",
      "2      1\n",
      "3      1\n",
      "Name: count, dtype: int64\n"
     ]
    }
   ],
   "source": [
    "print(numbers.value_counts() ) "
   ]
  },
  {
   "cell_type": "code",
   "execution_count": null,
   "id": "aa0b87b4-e847-4041-a032-a65009197699",
   "metadata": {},
   "outputs": [],
   "source": []
  }
 ],
 "metadata": {
  "kernelspec": {
   "display_name": "Python 3 (ipykernel)",
   "language": "python",
   "name": "python3"
  },
  "language_info": {
   "codemirror_mode": {
    "name": "ipython",
    "version": 3
   },
   "file_extension": ".py",
   "mimetype": "text/x-python",
   "name": "python",
   "nbconvert_exporter": "python",
   "pygments_lexer": "ipython3",
   "version": "3.12.7"
  }
 },
 "nbformat": 4,
 "nbformat_minor": 5
}
