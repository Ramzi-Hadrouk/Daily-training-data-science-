{
 "cells": [
  {
   "cell_type": "markdown",
   "id": "77bb725b-a85d-49c3-a91d-e0893a4e79b5",
   "metadata": {},
   "source": [
    "<H1 style=\"color:#64ff33; font-size:34px;background:#222 ; border-radius:15px ; text-align:center ;padding:20px\">Cleaning Data - Casting Datatypes and Handling Missing Values</H1>"
   ]
  },
  {
   "cell_type": "code",
   "execution_count": 1,
   "id": "9cf9435a-da63-4ebf-8109-261d3ac8fc32",
   "metadata": {},
   "outputs": [],
   "source": [
    "import numpy as np"
   ]
  },
  {
   "cell_type": "code",
   "execution_count": 2,
   "id": "c4f4eff2-c816-420a-a339-297ba083c753",
   "metadata": {},
   "outputs": [],
   "source": [
    " data = np.array([[1, 2], [3, 4], [5, 6]])"
   ]
  },
  {
   "cell_type": "code",
   "execution_count": 3,
   "id": "a0f64537-a53a-4e77-bffd-bce3955829f5",
   "metadata": {},
   "outputs": [
    {
     "data": {
      "text/plain": [
       "numpy.ndarray"
      ]
     },
     "execution_count": 3,
     "metadata": {},
     "output_type": "execute_result"
    }
   ],
   "source": [
    " type(data)"
   ]
  },
  {
   "cell_type": "code",
   "execution_count": 4,
   "id": "855123e6-b850-44f3-a2fe-73851fdaa000",
   "metadata": {},
   "outputs": [
    {
     "data": {
      "text/plain": [
       "(3, 2)"
      ]
     },
     "execution_count": 4,
     "metadata": {},
     "output_type": "execute_result"
    }
   ],
   "source": [
    " data.shape"
   ]
  },
  {
   "cell_type": "code",
   "execution_count": null,
   "id": "2a1a6376-1e11-4cdf-8c1b-166647a555dd",
   "metadata": {},
   "outputs": [],
   "source": []
  }
 ],
 "metadata": {
  "kernelspec": {
   "display_name": "Python 3 (ipykernel)",
   "language": "python",
   "name": "python3"
  },
  "language_info": {
   "codemirror_mode": {
    "name": "ipython",
    "version": 3
   },
   "file_extension": ".py",
   "mimetype": "text/x-python",
   "name": "python",
   "nbconvert_exporter": "python",
   "pygments_lexer": "ipython3",
   "version": "3.12.7"
  }
 },
 "nbformat": 4,
 "nbformat_minor": 5
}
